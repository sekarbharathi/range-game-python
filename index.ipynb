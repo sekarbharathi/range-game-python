{
 "cells": [
  {
   "cell_type": "code",
   "execution_count": 1,
   "id": "a1606a15-26e6-4627-8580-5a3ee6f3867b",
   "metadata": {},
   "outputs": [],
   "source": [
    "#Creating a list and display"
   ]
  },
  {
   "cell_type": "code",
   "execution_count": 2,
   "id": "bac0d884-60aa-4cfb-b145-09917430362d",
   "metadata": {},
   "outputs": [],
   "source": [
    "game_list=[0,1,2]"
   ]
  },
  {
   "cell_type": "code",
   "execution_count": 3,
   "id": "eeb7f29d-6c56-4478-90bd-8d81439d7f31",
   "metadata": {},
   "outputs": [
    {
     "name": "stdout",
     "output_type": "stream",
     "text": [
      "PFB current list:\n",
      "[0, 1, 2]\n"
     ]
    }
   ],
   "source": [
    "def display_list():\n",
    "    \n",
    "    print(\"PFB current list:\")\n",
    "    print(game_list)\n",
    "\n",
    "display_list()"
   ]
  },
  {
   "cell_type": "code",
   "execution_count": 4,
   "id": "0dfaafb0-b69a-42f9-b3d0-49866605f83f",
   "metadata": {},
   "outputs": [],
   "source": [
    "#Getting user input"
   ]
  },
  {
   "cell_type": "code",
   "execution_count": 10,
   "id": "4064e304-34ca-42c0-93f2-0b7091d65468",
   "metadata": {},
   "outputs": [],
   "source": [
    "def user_choice():\n",
    "    \n",
    "    choice = \"wrong\"\n",
    "    acceptable_list= [0,1,2]\n",
    "    within_range = False\n",
    "    \n",
    "    while choice.isdigit() == False or within_range == False:\n",
    "        \n",
    "        choice = input(\" Enter your position 0,1,2 : \")\n",
    "        \n",
    "        #Digit check\n",
    "        \n",
    "        if choice.isdigit() == False:\n",
    "            print(\"That is not digit\")\n",
    "            \n",
    "        #Range check\n",
    "        \n",
    "        if choice.isdigit() == True:\n",
    "            if int(choice) in acceptable_list:\n",
    "                within_range=True\n",
    "            else:\n",
    "                print(\"Sorry, Invalid choice\")\n",
    "    return int(choice)"
   ]
  },
  {
   "cell_type": "code",
   "execution_count": 6,
   "id": "edd738b2-81bb-42e1-b2b9-f94ca70acab9",
   "metadata": {},
   "outputs": [],
   "source": [
    "#Replacing user choice with user input position"
   ]
  },
  {
   "cell_type": "code",
   "execution_count": 7,
   "id": "dca4dbcc-1dae-49ed-a652-360fccdf652c",
   "metadata": {},
   "outputs": [],
   "source": [
    "def replacement_choice(game_list,position):\n",
    "\n",
    "    user_replacement = input(\"Enter a string to replace: \")\n",
    "    game_list[position] = user_replacement\n",
    "    return game_list\n"
   ]
  },
  {
   "cell_type": "code",
   "execution_count": 8,
   "id": "8536d259-c1cf-4f00-af80-8c7abb166ca7",
   "metadata": {},
   "outputs": [],
   "source": [
    "def game_on():\n",
    "\n",
    "    choice =\"placeholder\"\n",
    "\n",
    "    while choice not in ['Y','N']:\n",
    "        choice = input(\"Keep playing (Y or N) : \")\n",
    "        if choice not in ['Y','N']:\n",
    "            print(\"Enter Y or N\")\n",
    "    if choice== 'Y':\n",
    "        return True\n",
    "    else:\n",
    "        return False"
   ]
  },
  {
   "cell_type": "code",
   "execution_count": null,
   "id": "c4acbf5b-0791-43d9-a101-02b8e60e5f53",
   "metadata": {},
   "outputs": [
    {
     "data": {
      "text/plain": [
       "[0, 1, 2]"
      ]
     },
     "metadata": {},
     "output_type": "display_data"
    },
    {
     "name": "stdin",
     "output_type": "stream",
     "text": [
      " Enter your position 0,1,2 :  1\n",
      "Enter a string to replace:  x\n"
     ]
    },
    {
     "data": {
      "text/plain": [
       "[0, 'x', 2]"
      ]
     },
     "metadata": {},
     "output_type": "display_data"
    }
   ],
   "source": [
    "gameon = True\n",
    "\n",
    "game_list = [0,1,2]\n",
    "\n",
    "while gameon:\n",
    "    \n",
    "    \n",
    "    display(game_list) #Calling list\n",
    "    \n",
    "    position = user_choice() #Getting position from user input\n",
    "    \n",
    "    game_list = replacement_choice(game_list,position) #Getting string to replace\n",
    "    \n",
    "    display(game_list) \n",
    "     \n",
    "    gameon = game_on()\n",
    "    "
   ]
  },
  {
   "cell_type": "code",
   "execution_count": null,
   "id": "98312e37-28c8-4ccc-9159-b1b30ad292bd",
   "metadata": {},
   "outputs": [],
   "source": []
  }
 ],
 "metadata": {
  "kernelspec": {
   "display_name": "Python 3 (ipykernel)",
   "language": "python",
   "name": "python3"
  },
  "language_info": {
   "codemirror_mode": {
    "name": "ipython",
    "version": 3
   },
   "file_extension": ".py",
   "mimetype": "text/x-python",
   "name": "python",
   "nbconvert_exporter": "python",
   "pygments_lexer": "ipython3",
   "version": "3.11.7"
  }
 },
 "nbformat": 4,
 "nbformat_minor": 5
}
